{
 "cells": [
  {
   "cell_type": "code",
   "execution_count": 41,
   "id": "0ebc6aad",
   "metadata": {},
   "outputs": [
    {
     "data": {
      "text/html": [
       "<div>\n",
       "<style scoped>\n",
       "    .dataframe tbody tr th:only-of-type {\n",
       "        vertical-align: middle;\n",
       "    }\n",
       "\n",
       "    .dataframe tbody tr th {\n",
       "        vertical-align: top;\n",
       "    }\n",
       "\n",
       "    .dataframe thead th {\n",
       "        text-align: right;\n",
       "    }\n",
       "</style>\n",
       "<table border=\"1\" class=\"dataframe\">\n",
       "  <thead>\n",
       "    <tr style=\"text-align: right;\">\n",
       "      <th></th>\n",
       "      <th>Unnamed: 0</th>\n",
       "      <th>Unnamed: 1</th>\n",
       "      <th>Unnamed: 2</th>\n",
       "      <th>Unnamed: 3</th>\n",
       "      <th>Unnamed: 4</th>\n",
       "    </tr>\n",
       "  </thead>\n",
       "  <tbody>\n",
       "    <tr>\n",
       "      <th>0</th>\n",
       "      <td>Time (Hour)</td>\n",
       "      <td>Bacteria Culture (Plate A)</td>\n",
       "      <td>Bacteria Culture (Plate B)</td>\n",
       "      <td>Bacterial Growth Rate (A)</td>\n",
       "      <td>Bacterial Growth Rate (B)</td>\n",
       "    </tr>\n",
       "    <tr>\n",
       "      <th>1</th>\n",
       "      <td>1</td>\n",
       "      <td>70</td>\n",
       "      <td>90</td>\n",
       "      <td>0</td>\n",
       "      <td>0</td>\n",
       "    </tr>\n",
       "    <tr>\n",
       "      <th>2</th>\n",
       "      <td>2</td>\n",
       "      <td>135</td>\n",
       "      <td>190</td>\n",
       "      <td>0.656897883</td>\n",
       "      <td>0.747349044</td>\n",
       "    </tr>\n",
       "    <tr>\n",
       "      <th>3</th>\n",
       "      <td>3</td>\n",
       "      <td>225</td>\n",
       "      <td>250</td>\n",
       "      <td>0.510917670</td>\n",
       "      <td>0.274486297</td>\n",
       "    </tr>\n",
       "    <tr>\n",
       "      <th>4</th>\n",
       "      <td>4</td>\n",
       "      <td>290</td>\n",
       "      <td>350</td>\n",
       "      <td>0.253826250</td>\n",
       "      <td>0.336532866</td>\n",
       "    </tr>\n",
       "    <tr>\n",
       "      <th>5</th>\n",
       "      <td>5</td>\n",
       "      <td>340</td>\n",
       "      <td>435</td>\n",
       "      <td>0.159093357</td>\n",
       "      <td>0.217452053</td>\n",
       "    </tr>\n",
       "    <tr>\n",
       "      <th>6</th>\n",
       "      <td>6</td>\n",
       "      <td>435</td>\n",
       "      <td>545</td>\n",
       "      <td>0.246444813</td>\n",
       "      <td>0.225480386</td>\n",
       "    </tr>\n",
       "    <tr>\n",
       "      <th>7</th>\n",
       "      <td>7</td>\n",
       "      <td>490</td>\n",
       "      <td>655</td>\n",
       "      <td>0.119080814</td>\n",
       "      <td>0.183882569</td>\n",
       "    </tr>\n",
       "    <tr>\n",
       "      <th>8</th>\n",
       "      <td>8</td>\n",
       "      <td>540</td>\n",
       "      <td>750</td>\n",
       "      <td>0.097181257</td>\n",
       "      <td>0.135462376</td>\n",
       "    </tr>\n",
       "    <tr>\n",
       "      <th>9</th>\n",
       "      <td>9</td>\n",
       "      <td>600</td>\n",
       "      <td>825</td>\n",
       "      <td>0.105379501</td>\n",
       "      <td>0.095327354</td>\n",
       "    </tr>\n",
       "    <tr>\n",
       "      <th>10</th>\n",
       "      <td>10</td>\n",
       "      <td>690</td>\n",
       "      <td>925</td>\n",
       "      <td>0.139787126</td>\n",
       "      <td>0.114430967</td>\n",
       "    </tr>\n",
       "  </tbody>\n",
       "</table>\n",
       "</div>"
      ],
      "text/plain": [
       "     Unnamed: 0                  Unnamed: 1                  Unnamed: 2  \\\n",
       "0   Time (Hour)  Bacteria Culture (Plate A)  Bacteria Culture (Plate B)   \n",
       "1             1                          70                          90   \n",
       "2             2                         135                         190   \n",
       "3             3                         225                         250   \n",
       "4             4                         290                         350   \n",
       "5             5                         340                         435   \n",
       "6             6                         435                         545   \n",
       "7             7                         490                         655   \n",
       "8             8                         540                         750   \n",
       "9             9                         600                         825   \n",
       "10           10                         690                         925   \n",
       "\n",
       "                   Unnamed: 3                 Unnamed: 4  \n",
       "0   Bacterial Growth Rate (A)  Bacterial Growth Rate (B)  \n",
       "1                           0                          0  \n",
       "2                 0.656897883                0.747349044  \n",
       "3                 0.510917670                0.274486297  \n",
       "4                 0.253826250                0.336532866  \n",
       "5                 0.159093357                0.217452053  \n",
       "6                 0.246444813                0.225480386  \n",
       "7                 0.119080814                0.183882569  \n",
       "8                 0.097181257                0.135462376  \n",
       "9                 0.105379501                0.095327354  \n",
       "10                0.139787126                0.114430967  "
      ]
     },
     "execution_count": 41,
     "metadata": {},
     "output_type": "execute_result"
    }
   ],
   "source": [
    "import pandas as pd\n",
    "bacterial=pd.read_excel('rate of bacterial growth (bacterial culturing).xlsx')\n",
    "bacterial"
   ]
  },
  {
   "cell_type": "code",
   "execution_count": 42,
   "id": "7427e96e",
   "metadata": {},
   "outputs": [
    {
     "data": {
      "text/plain": [
       "Unnamed: 0    object\n",
       "Unnamed: 1    object\n",
       "Unnamed: 2    object\n",
       "Unnamed: 3    object\n",
       "Unnamed: 4    object\n",
       "dtype: object"
      ]
     },
     "execution_count": 42,
     "metadata": {},
     "output_type": "execute_result"
    }
   ],
   "source": [
    "bacterial.dtypes"
   ]
  },
  {
   "cell_type": "code",
   "execution_count": 43,
   "id": "7e108ab0",
   "metadata": {},
   "outputs": [
    {
     "data": {
      "text/plain": [
       "Index(['Unnamed: 0', 'Unnamed: 1', 'Unnamed: 2', 'Unnamed: 3', 'Unnamed: 4'], dtype='object')"
      ]
     },
     "execution_count": 43,
     "metadata": {},
     "output_type": "execute_result"
    }
   ],
   "source": [
    "bacterial.columns"
   ]
  },
  {
   "cell_type": "code",
   "execution_count": 44,
   "id": "8faab25b",
   "metadata": {},
   "outputs": [],
   "source": [
    "bacterial.rename(columns={'Unnamed: 0':'Time (Hour)','Unnamed: 1':'Bacteria Culture (Plate A)','Unnamed: 2':'Bacteria Culture (Plate B)','Unnamed: 3':'Bacterial Growth Rate (A)','Unnamed: 4':'Bacterial Growth Rate (B)'},inplace=True)"
   ]
  },
  {
   "cell_type": "code",
   "execution_count": 45,
   "id": "5f849888",
   "metadata": {},
   "outputs": [
    {
     "data": {
      "text/html": [
       "<div>\n",
       "<style scoped>\n",
       "    .dataframe tbody tr th:only-of-type {\n",
       "        vertical-align: middle;\n",
       "    }\n",
       "\n",
       "    .dataframe tbody tr th {\n",
       "        vertical-align: top;\n",
       "    }\n",
       "\n",
       "    .dataframe thead th {\n",
       "        text-align: right;\n",
       "    }\n",
       "</style>\n",
       "<table border=\"1\" class=\"dataframe\">\n",
       "  <thead>\n",
       "    <tr style=\"text-align: right;\">\n",
       "      <th></th>\n",
       "      <th>Time (Hour)</th>\n",
       "      <th>Bacteria Culture (Plate A)</th>\n",
       "      <th>Bacteria Culture (Plate B)</th>\n",
       "      <th>Bacterial Growth Rate (A)</th>\n",
       "      <th>Bacterial Growth Rate (B)</th>\n",
       "    </tr>\n",
       "  </thead>\n",
       "  <tbody>\n",
       "    <tr>\n",
       "      <th>0</th>\n",
       "      <td>Time (Hour)</td>\n",
       "      <td>Bacteria Culture (Plate A)</td>\n",
       "      <td>Bacteria Culture (Plate B)</td>\n",
       "      <td>Bacterial Growth Rate (A)</td>\n",
       "      <td>Bacterial Growth Rate (B)</td>\n",
       "    </tr>\n",
       "    <tr>\n",
       "      <th>1</th>\n",
       "      <td>1</td>\n",
       "      <td>70</td>\n",
       "      <td>90</td>\n",
       "      <td>0</td>\n",
       "      <td>0</td>\n",
       "    </tr>\n",
       "    <tr>\n",
       "      <th>2</th>\n",
       "      <td>2</td>\n",
       "      <td>135</td>\n",
       "      <td>190</td>\n",
       "      <td>0.656897883</td>\n",
       "      <td>0.747349044</td>\n",
       "    </tr>\n",
       "    <tr>\n",
       "      <th>3</th>\n",
       "      <td>3</td>\n",
       "      <td>225</td>\n",
       "      <td>250</td>\n",
       "      <td>0.510917670</td>\n",
       "      <td>0.274486297</td>\n",
       "    </tr>\n",
       "    <tr>\n",
       "      <th>4</th>\n",
       "      <td>4</td>\n",
       "      <td>290</td>\n",
       "      <td>350</td>\n",
       "      <td>0.253826250</td>\n",
       "      <td>0.336532866</td>\n",
       "    </tr>\n",
       "    <tr>\n",
       "      <th>5</th>\n",
       "      <td>5</td>\n",
       "      <td>340</td>\n",
       "      <td>435</td>\n",
       "      <td>0.159093357</td>\n",
       "      <td>0.217452053</td>\n",
       "    </tr>\n",
       "    <tr>\n",
       "      <th>6</th>\n",
       "      <td>6</td>\n",
       "      <td>435</td>\n",
       "      <td>545</td>\n",
       "      <td>0.246444813</td>\n",
       "      <td>0.225480386</td>\n",
       "    </tr>\n",
       "    <tr>\n",
       "      <th>7</th>\n",
       "      <td>7</td>\n",
       "      <td>490</td>\n",
       "      <td>655</td>\n",
       "      <td>0.119080814</td>\n",
       "      <td>0.183882569</td>\n",
       "    </tr>\n",
       "    <tr>\n",
       "      <th>8</th>\n",
       "      <td>8</td>\n",
       "      <td>540</td>\n",
       "      <td>750</td>\n",
       "      <td>0.097181257</td>\n",
       "      <td>0.135462376</td>\n",
       "    </tr>\n",
       "    <tr>\n",
       "      <th>9</th>\n",
       "      <td>9</td>\n",
       "      <td>600</td>\n",
       "      <td>825</td>\n",
       "      <td>0.105379501</td>\n",
       "      <td>0.095327354</td>\n",
       "    </tr>\n",
       "    <tr>\n",
       "      <th>10</th>\n",
       "      <td>10</td>\n",
       "      <td>690</td>\n",
       "      <td>925</td>\n",
       "      <td>0.139787126</td>\n",
       "      <td>0.114430967</td>\n",
       "    </tr>\n",
       "  </tbody>\n",
       "</table>\n",
       "</div>"
      ],
      "text/plain": [
       "    Time (Hour)  Bacteria Culture (Plate A)  Bacteria Culture (Plate B)  \\\n",
       "0   Time (Hour)  Bacteria Culture (Plate A)  Bacteria Culture (Plate B)   \n",
       "1             1                          70                          90   \n",
       "2             2                         135                         190   \n",
       "3             3                         225                         250   \n",
       "4             4                         290                         350   \n",
       "5             5                         340                         435   \n",
       "6             6                         435                         545   \n",
       "7             7                         490                         655   \n",
       "8             8                         540                         750   \n",
       "9             9                         600                         825   \n",
       "10           10                         690                         925   \n",
       "\n",
       "    Bacterial Growth Rate (A)  Bacterial Growth Rate (B)  \n",
       "0   Bacterial Growth Rate (A)  Bacterial Growth Rate (B)  \n",
       "1                           0                          0  \n",
       "2                 0.656897883                0.747349044  \n",
       "3                 0.510917670                0.274486297  \n",
       "4                 0.253826250                0.336532866  \n",
       "5                 0.159093357                0.217452053  \n",
       "6                 0.246444813                0.225480386  \n",
       "7                 0.119080814                0.183882569  \n",
       "8                 0.097181257                0.135462376  \n",
       "9                 0.105379501                0.095327354  \n",
       "10                0.139787126                0.114430967  "
      ]
     },
     "execution_count": 45,
     "metadata": {},
     "output_type": "execute_result"
    }
   ],
   "source": [
    "bacterial"
   ]
  },
  {
   "cell_type": "code",
   "execution_count": 46,
   "id": "4ea468e8",
   "metadata": {},
   "outputs": [],
   "source": [
    "bact2=bacterial.drop(0)"
   ]
  },
  {
   "cell_type": "code",
   "execution_count": 47,
   "id": "af7d6a2b",
   "metadata": {
    "scrolled": true
   },
   "outputs": [
    {
     "data": {
      "text/html": [
       "<div>\n",
       "<style scoped>\n",
       "    .dataframe tbody tr th:only-of-type {\n",
       "        vertical-align: middle;\n",
       "    }\n",
       "\n",
       "    .dataframe tbody tr th {\n",
       "        vertical-align: top;\n",
       "    }\n",
       "\n",
       "    .dataframe thead th {\n",
       "        text-align: right;\n",
       "    }\n",
       "</style>\n",
       "<table border=\"1\" class=\"dataframe\">\n",
       "  <thead>\n",
       "    <tr style=\"text-align: right;\">\n",
       "      <th></th>\n",
       "      <th>Time (Hour)</th>\n",
       "      <th>Bacteria Culture (Plate A)</th>\n",
       "      <th>Bacteria Culture (Plate B)</th>\n",
       "      <th>Bacterial Growth Rate (A)</th>\n",
       "      <th>Bacterial Growth Rate (B)</th>\n",
       "    </tr>\n",
       "  </thead>\n",
       "  <tbody>\n",
       "    <tr>\n",
       "      <th>1</th>\n",
       "      <td>1</td>\n",
       "      <td>70</td>\n",
       "      <td>90</td>\n",
       "      <td>0</td>\n",
       "      <td>0</td>\n",
       "    </tr>\n",
       "    <tr>\n",
       "      <th>2</th>\n",
       "      <td>2</td>\n",
       "      <td>135</td>\n",
       "      <td>190</td>\n",
       "      <td>0.656897883</td>\n",
       "      <td>0.747349044</td>\n",
       "    </tr>\n",
       "    <tr>\n",
       "      <th>3</th>\n",
       "      <td>3</td>\n",
       "      <td>225</td>\n",
       "      <td>250</td>\n",
       "      <td>0.510917670</td>\n",
       "      <td>0.274486297</td>\n",
       "    </tr>\n",
       "    <tr>\n",
       "      <th>4</th>\n",
       "      <td>4</td>\n",
       "      <td>290</td>\n",
       "      <td>350</td>\n",
       "      <td>0.253826250</td>\n",
       "      <td>0.336532866</td>\n",
       "    </tr>\n",
       "    <tr>\n",
       "      <th>5</th>\n",
       "      <td>5</td>\n",
       "      <td>340</td>\n",
       "      <td>435</td>\n",
       "      <td>0.159093357</td>\n",
       "      <td>0.217452053</td>\n",
       "    </tr>\n",
       "    <tr>\n",
       "      <th>6</th>\n",
       "      <td>6</td>\n",
       "      <td>435</td>\n",
       "      <td>545</td>\n",
       "      <td>0.246444813</td>\n",
       "      <td>0.225480386</td>\n",
       "    </tr>\n",
       "    <tr>\n",
       "      <th>7</th>\n",
       "      <td>7</td>\n",
       "      <td>490</td>\n",
       "      <td>655</td>\n",
       "      <td>0.119080814</td>\n",
       "      <td>0.183882569</td>\n",
       "    </tr>\n",
       "    <tr>\n",
       "      <th>8</th>\n",
       "      <td>8</td>\n",
       "      <td>540</td>\n",
       "      <td>750</td>\n",
       "      <td>0.097181257</td>\n",
       "      <td>0.135462376</td>\n",
       "    </tr>\n",
       "    <tr>\n",
       "      <th>9</th>\n",
       "      <td>9</td>\n",
       "      <td>600</td>\n",
       "      <td>825</td>\n",
       "      <td>0.105379501</td>\n",
       "      <td>0.095327354</td>\n",
       "    </tr>\n",
       "    <tr>\n",
       "      <th>10</th>\n",
       "      <td>10</td>\n",
       "      <td>690</td>\n",
       "      <td>925</td>\n",
       "      <td>0.139787126</td>\n",
       "      <td>0.114430967</td>\n",
       "    </tr>\n",
       "  </tbody>\n",
       "</table>\n",
       "</div>"
      ],
      "text/plain": [
       "   Time (Hour) Bacteria Culture (Plate A) Bacteria Culture (Plate B)  \\\n",
       "1            1                         70                         90   \n",
       "2            2                        135                        190   \n",
       "3            3                        225                        250   \n",
       "4            4                        290                        350   \n",
       "5            5                        340                        435   \n",
       "6            6                        435                        545   \n",
       "7            7                        490                        655   \n",
       "8            8                        540                        750   \n",
       "9            9                        600                        825   \n",
       "10          10                        690                        925   \n",
       "\n",
       "   Bacterial Growth Rate (A) Bacterial Growth Rate (B)  \n",
       "1                          0                         0  \n",
       "2                0.656897883               0.747349044  \n",
       "3                0.510917670               0.274486297  \n",
       "4                0.253826250               0.336532866  \n",
       "5                0.159093357               0.217452053  \n",
       "6                0.246444813               0.225480386  \n",
       "7                0.119080814               0.183882569  \n",
       "8                0.097181257               0.135462376  \n",
       "9                0.105379501               0.095327354  \n",
       "10               0.139787126               0.114430967  "
      ]
     },
     "execution_count": 47,
     "metadata": {},
     "output_type": "execute_result"
    }
   ],
   "source": [
    "bact2"
   ]
  },
  {
   "cell_type": "code",
   "execution_count": 48,
   "id": "1ed2677f",
   "metadata": {},
   "outputs": [],
   "source": [
    "bact3=bact2.drop(1)"
   ]
  },
  {
   "cell_type": "code",
   "execution_count": 49,
   "id": "781c2400",
   "metadata": {},
   "outputs": [
    {
     "data": {
      "text/html": [
       "<div>\n",
       "<style scoped>\n",
       "    .dataframe tbody tr th:only-of-type {\n",
       "        vertical-align: middle;\n",
       "    }\n",
       "\n",
       "    .dataframe tbody tr th {\n",
       "        vertical-align: top;\n",
       "    }\n",
       "\n",
       "    .dataframe thead th {\n",
       "        text-align: right;\n",
       "    }\n",
       "</style>\n",
       "<table border=\"1\" class=\"dataframe\">\n",
       "  <thead>\n",
       "    <tr style=\"text-align: right;\">\n",
       "      <th></th>\n",
       "      <th>Time (Hour)</th>\n",
       "      <th>Bacteria Culture (Plate A)</th>\n",
       "      <th>Bacteria Culture (Plate B)</th>\n",
       "      <th>Bacterial Growth Rate (A)</th>\n",
       "      <th>Bacterial Growth Rate (B)</th>\n",
       "    </tr>\n",
       "  </thead>\n",
       "  <tbody>\n",
       "    <tr>\n",
       "      <th>2</th>\n",
       "      <td>2</td>\n",
       "      <td>135</td>\n",
       "      <td>190</td>\n",
       "      <td>0.656897883</td>\n",
       "      <td>0.747349044</td>\n",
       "    </tr>\n",
       "    <tr>\n",
       "      <th>3</th>\n",
       "      <td>3</td>\n",
       "      <td>225</td>\n",
       "      <td>250</td>\n",
       "      <td>0.510917670</td>\n",
       "      <td>0.274486297</td>\n",
       "    </tr>\n",
       "    <tr>\n",
       "      <th>4</th>\n",
       "      <td>4</td>\n",
       "      <td>290</td>\n",
       "      <td>350</td>\n",
       "      <td>0.253826250</td>\n",
       "      <td>0.336532866</td>\n",
       "    </tr>\n",
       "    <tr>\n",
       "      <th>5</th>\n",
       "      <td>5</td>\n",
       "      <td>340</td>\n",
       "      <td>435</td>\n",
       "      <td>0.159093357</td>\n",
       "      <td>0.217452053</td>\n",
       "    </tr>\n",
       "    <tr>\n",
       "      <th>6</th>\n",
       "      <td>6</td>\n",
       "      <td>435</td>\n",
       "      <td>545</td>\n",
       "      <td>0.246444813</td>\n",
       "      <td>0.225480386</td>\n",
       "    </tr>\n",
       "    <tr>\n",
       "      <th>7</th>\n",
       "      <td>7</td>\n",
       "      <td>490</td>\n",
       "      <td>655</td>\n",
       "      <td>0.119080814</td>\n",
       "      <td>0.183882569</td>\n",
       "    </tr>\n",
       "    <tr>\n",
       "      <th>8</th>\n",
       "      <td>8</td>\n",
       "      <td>540</td>\n",
       "      <td>750</td>\n",
       "      <td>0.097181257</td>\n",
       "      <td>0.135462376</td>\n",
       "    </tr>\n",
       "    <tr>\n",
       "      <th>9</th>\n",
       "      <td>9</td>\n",
       "      <td>600</td>\n",
       "      <td>825</td>\n",
       "      <td>0.105379501</td>\n",
       "      <td>0.095327354</td>\n",
       "    </tr>\n",
       "    <tr>\n",
       "      <th>10</th>\n",
       "      <td>10</td>\n",
       "      <td>690</td>\n",
       "      <td>925</td>\n",
       "      <td>0.139787126</td>\n",
       "      <td>0.114430967</td>\n",
       "    </tr>\n",
       "  </tbody>\n",
       "</table>\n",
       "</div>"
      ],
      "text/plain": [
       "   Time (Hour) Bacteria Culture (Plate A) Bacteria Culture (Plate B)  \\\n",
       "2            2                        135                        190   \n",
       "3            3                        225                        250   \n",
       "4            4                        290                        350   \n",
       "5            5                        340                        435   \n",
       "6            6                        435                        545   \n",
       "7            7                        490                        655   \n",
       "8            8                        540                        750   \n",
       "9            9                        600                        825   \n",
       "10          10                        690                        925   \n",
       "\n",
       "   Bacterial Growth Rate (A) Bacterial Growth Rate (B)  \n",
       "2                0.656897883               0.747349044  \n",
       "3                0.510917670               0.274486297  \n",
       "4                0.253826250               0.336532866  \n",
       "5                0.159093357               0.217452053  \n",
       "6                0.246444813               0.225480386  \n",
       "7                0.119080814               0.183882569  \n",
       "8                0.097181257               0.135462376  \n",
       "9                0.105379501               0.095327354  \n",
       "10               0.139787126               0.114430967  "
      ]
     },
     "execution_count": 49,
     "metadata": {},
     "output_type": "execute_result"
    }
   ],
   "source": [
    "bact3"
   ]
  },
  {
   "cell_type": "code",
   "execution_count": 50,
   "id": "6eb1b03c",
   "metadata": {},
   "outputs": [
    {
     "data": {
      "text/plain": [
       "Time (Hour)                   object\n",
       "Bacteria Culture (Plate A)    object\n",
       "Bacteria Culture (Plate B)    object\n",
       "Bacterial Growth Rate (A)     object\n",
       "Bacterial Growth Rate (B)     object\n",
       "dtype: object"
      ]
     },
     "execution_count": 50,
     "metadata": {},
     "output_type": "execute_result"
    }
   ],
   "source": [
    "bact3.dtypes"
   ]
  },
  {
   "cell_type": "code",
   "execution_count": 51,
   "id": "d754fff6",
   "metadata": {},
   "outputs": [],
   "source": [
    "bact3['Time (Hour)']=bact3['Time (Hour)'].astype(int)"
   ]
  },
  {
   "cell_type": "code",
   "execution_count": 52,
   "id": "6212f994",
   "metadata": {},
   "outputs": [],
   "source": [
    "bact3['Bacteria Culture (Plate A)']=bact3['Bacteria Culture (Plate A)'].astype(int)"
   ]
  },
  {
   "cell_type": "code",
   "execution_count": 53,
   "id": "7bfc6211",
   "metadata": {},
   "outputs": [],
   "source": [
    "bact3['Bacteria Culture (Plate B)']=bact3['Bacteria Culture (Plate B)'].astype(int)"
   ]
  },
  {
   "cell_type": "code",
   "execution_count": 54,
   "id": "b761ce86",
   "metadata": {},
   "outputs": [],
   "source": [
    "bact3['Bacterial Growth Rate (A)']=bact3['Bacterial Growth Rate (A)'].astype(object)"
   ]
  },
  {
   "cell_type": "code",
   "execution_count": 55,
   "id": "eb1c8354",
   "metadata": {},
   "outputs": [
    {
     "data": {
      "text/html": [
       "<div>\n",
       "<style scoped>\n",
       "    .dataframe tbody tr th:only-of-type {\n",
       "        vertical-align: middle;\n",
       "    }\n",
       "\n",
       "    .dataframe tbody tr th {\n",
       "        vertical-align: top;\n",
       "    }\n",
       "\n",
       "    .dataframe thead th {\n",
       "        text-align: right;\n",
       "    }\n",
       "</style>\n",
       "<table border=\"1\" class=\"dataframe\">\n",
       "  <thead>\n",
       "    <tr style=\"text-align: right;\">\n",
       "      <th></th>\n",
       "      <th>Time (Hour)</th>\n",
       "      <th>Bacteria Culture (Plate A)</th>\n",
       "      <th>Bacteria Culture (Plate B)</th>\n",
       "      <th>Bacterial Growth Rate (A)</th>\n",
       "      <th>Bacterial Growth Rate (B)</th>\n",
       "    </tr>\n",
       "  </thead>\n",
       "  <tbody>\n",
       "    <tr>\n",
       "      <th>2</th>\n",
       "      <td>2</td>\n",
       "      <td>135</td>\n",
       "      <td>190</td>\n",
       "      <td>0.656897883</td>\n",
       "      <td>0.747349044</td>\n",
       "    </tr>\n",
       "    <tr>\n",
       "      <th>3</th>\n",
       "      <td>3</td>\n",
       "      <td>225</td>\n",
       "      <td>250</td>\n",
       "      <td>0.510917670</td>\n",
       "      <td>0.274486297</td>\n",
       "    </tr>\n",
       "    <tr>\n",
       "      <th>4</th>\n",
       "      <td>4</td>\n",
       "      <td>290</td>\n",
       "      <td>350</td>\n",
       "      <td>0.253826250</td>\n",
       "      <td>0.336532866</td>\n",
       "    </tr>\n",
       "    <tr>\n",
       "      <th>5</th>\n",
       "      <td>5</td>\n",
       "      <td>340</td>\n",
       "      <td>435</td>\n",
       "      <td>0.159093357</td>\n",
       "      <td>0.217452053</td>\n",
       "    </tr>\n",
       "    <tr>\n",
       "      <th>6</th>\n",
       "      <td>6</td>\n",
       "      <td>435</td>\n",
       "      <td>545</td>\n",
       "      <td>0.246444813</td>\n",
       "      <td>0.225480386</td>\n",
       "    </tr>\n",
       "    <tr>\n",
       "      <th>7</th>\n",
       "      <td>7</td>\n",
       "      <td>490</td>\n",
       "      <td>655</td>\n",
       "      <td>0.119080814</td>\n",
       "      <td>0.183882569</td>\n",
       "    </tr>\n",
       "    <tr>\n",
       "      <th>8</th>\n",
       "      <td>8</td>\n",
       "      <td>540</td>\n",
       "      <td>750</td>\n",
       "      <td>0.097181257</td>\n",
       "      <td>0.135462376</td>\n",
       "    </tr>\n",
       "    <tr>\n",
       "      <th>9</th>\n",
       "      <td>9</td>\n",
       "      <td>600</td>\n",
       "      <td>825</td>\n",
       "      <td>0.105379501</td>\n",
       "      <td>0.095327354</td>\n",
       "    </tr>\n",
       "    <tr>\n",
       "      <th>10</th>\n",
       "      <td>10</td>\n",
       "      <td>690</td>\n",
       "      <td>925</td>\n",
       "      <td>0.139787126</td>\n",
       "      <td>0.114430967</td>\n",
       "    </tr>\n",
       "  </tbody>\n",
       "</table>\n",
       "</div>"
      ],
      "text/plain": [
       "    Time (Hour)  Bacteria Culture (Plate A)  Bacteria Culture (Plate B)  \\\n",
       "2             2                         135                         190   \n",
       "3             3                         225                         250   \n",
       "4             4                         290                         350   \n",
       "5             5                         340                         435   \n",
       "6             6                         435                         545   \n",
       "7             7                         490                         655   \n",
       "8             8                         540                         750   \n",
       "9             9                         600                         825   \n",
       "10           10                         690                         925   \n",
       "\n",
       "   Bacterial Growth Rate (A) Bacterial Growth Rate (B)  \n",
       "2                0.656897883               0.747349044  \n",
       "3                0.510917670               0.274486297  \n",
       "4                0.253826250               0.336532866  \n",
       "5                0.159093357               0.217452053  \n",
       "6                0.246444813               0.225480386  \n",
       "7                0.119080814               0.183882569  \n",
       "8                0.097181257               0.135462376  \n",
       "9                0.105379501               0.095327354  \n",
       "10               0.139787126               0.114430967  "
      ]
     },
     "execution_count": 55,
     "metadata": {},
     "output_type": "execute_result"
    }
   ],
   "source": [
    "bact3"
   ]
  },
  {
   "cell_type": "code",
   "execution_count": 56,
   "id": "60962b39",
   "metadata": {},
   "outputs": [
    {
     "data": {
      "text/plain": [
       "Time (Hour)                    int32\n",
       "Bacteria Culture (Plate A)     int32\n",
       "Bacteria Culture (Plate B)     int32\n",
       "Bacterial Growth Rate (A)     object\n",
       "Bacterial Growth Rate (B)     object\n",
       "dtype: object"
      ]
     },
     "execution_count": 56,
     "metadata": {},
     "output_type": "execute_result"
    }
   ],
   "source": [
    "bact3.dtypes"
   ]
  },
  {
   "cell_type": "code",
   "execution_count": 57,
   "id": "00ddc137",
   "metadata": {},
   "outputs": [
    {
     "data": {
      "text/plain": [
       "<Figure size 1800x400 with 0 Axes>"
      ]
     },
     "metadata": {},
     "output_type": "display_data"
    }
   ],
   "source": [
    "from matplotlib import pyplot as plt\n",
    "import seaborn as sns\n",
    "\n",
    "plt.figure(figsize=(18,4)) # increase the size 18 for row,4 for the columns\n",
    "\n",
    "import pandas as pd\n",
    "import matplotlib.pyplot as plt"
   ]
  },
  {
   "cell_type": "code",
   "execution_count": 58,
   "id": "6dfabd4c",
   "metadata": {
    "scrolled": true
   },
   "outputs": [
    {
     "data": {
      "text/plain": [
       "<Axes: xlabel='Bacterial Growth Rate (A)'>"
      ]
     },
     "execution_count": 58,
     "metadata": {},
     "output_type": "execute_result"
    },
    {
     "data": {
      "image/png": "[encoded data removed]",
      "text/plain": [
       "<Figure size 640x480 with 1 Axes>"
      ]
     },
     "metadata": {},
     "output_type": "display_data"
    }
   ],
   "source": [
    "bact3.plot(kind=\"bar\", x=\"Bacterial Growth Rate (A)\",y=[\"Time (Hour)\"])"
   ]
  },
  {
   "cell_type": "markdown",
   "id": "056d579f",
   "metadata": {},
   "source": [
    "# For Bacteria Culture (Plate A) prediction"
   ]
  },
  {
   "cell_type": "code",
   "execution_count": 59,
   "id": "724b7dbf",
   "metadata": {},
   "outputs": [],
   "source": [
    "x=bact3[['Time (Hour)','Bacteria Culture (Plate A)']]"
   ]
  },
  {
   "cell_type": "code",
   "execution_count": 61,
   "id": "e9cd3920",
   "metadata": {},
   "outputs": [],
   "source": [
    "y=bact3['Bacterial Growth Rate (A)']"
   ]
  },
  {
   "cell_type": "code",
   "execution_count": 62,
   "id": "2a45f072",
   "metadata": {},
   "outputs": [],
   "source": [
    "from sklearn.model_selection import train_test_split"
   ]
  },
  {
   "cell_type": "code",
   "execution_count": 63,
   "id": "42f8c1b6",
   "metadata": {},
   "outputs": [],
   "source": [
    "x_train,x_test,y_train,y_test=train_test_split(x,y, random_state=0)"
   ]
  },
  {
   "cell_type": "code",
   "execution_count": 64,
   "id": "559c5045",
   "metadata": {},
   "outputs": [],
   "source": [
    "from sklearn.linear_model import LinearRegression"
   ]
  },
  {
   "cell_type": "code",
   "execution_count": 65,
   "id": "8593850c",
   "metadata": {},
   "outputs": [],
   "source": [
    "model= LinearRegression().fit(x_train,y_train)"
   ]
  },
  {
   "cell_type": "code",
   "execution_count": 66,
   "id": "a97f9b18",
   "metadata": {},
   "outputs": [
    {
     "data": {
      "text/plain": [
       "array([0.06542, 0.38588, 0.4499 ])"
      ]
     },
     "execution_count": 66,
     "metadata": {},
     "output_type": "execute_result"
    }
   ],
   "source": [
    "model.predict(x_test).round(5)"
   ]
  },
  {
   "cell_type": "code",
   "execution_count": 67,
   "id": "086b3858",
   "metadata": {},
   "outputs": [
    {
     "data": {
      "text/plain": [
       "9    0.105379501\n",
       "4    0.253826250\n",
       "3    0.510917670\n",
       "Name: Bacterial Growth Rate (A), dtype: object"
      ]
     },
     "execution_count": 67,
     "metadata": {},
     "output_type": "execute_result"
    }
   ],
   "source": [
    "y_test"
   ]
  },
  {
   "cell_type": "code",
   "execution_count": 68,
   "id": "0df54069",
   "metadata": {},
   "outputs": [],
   "source": [
    "prediction=model.predict(x_test).round(3)"
   ]
  },
  {
   "cell_type": "code",
   "execution_count": 69,
   "id": "68c9fd21",
   "metadata": {},
   "outputs": [
    {
     "data": {
      "text/plain": [
       "73.201141741958"
      ]
     },
     "execution_count": 69,
     "metadata": {},
     "output_type": "execute_result"
    }
   ],
   "source": [
    "from sklearn.metrics import r2_score\n",
    "r2_score(prediction, y_test)*100"
   ]
  },
  {
   "cell_type": "markdown",
   "id": "61e8dfa3",
   "metadata": {},
   "source": [
    "# For Bacteria Culture (Plate B) prediction"
   ]
  },
  {
   "cell_type": "code",
   "execution_count": 70,
   "id": "792aacaf",
   "metadata": {},
   "outputs": [],
   "source": [
    "x=bact3[['Time (Hour)','Bacteria Culture (Plate B)']]"
   ]
  },
  {
   "cell_type": "code",
   "execution_count": 71,
   "id": "35167209",
   "metadata": {},
   "outputs": [],
   "source": [
    "y=bact3['Bacterial Growth Rate (B)']"
   ]
  },
  {
   "cell_type": "code",
   "execution_count": 72,
   "id": "e000957f",
   "metadata": {},
   "outputs": [],
   "source": [
    "from sklearn.model_selection import train_test_split"
   ]
  },
  {
   "cell_type": "code",
   "execution_count": 73,
   "id": "80f2be08",
   "metadata": {},
   "outputs": [],
   "source": [
    "x_train,x_test,y_train,y_test=train_test_split(x,y, random_state=0)"
   ]
  },
  {
   "cell_type": "code",
   "execution_count": 74,
   "id": "24746c3b",
   "metadata": {},
   "outputs": [],
   "source": [
    "from sklearn.linear_model import LinearRegression"
   ]
  },
  {
   "cell_type": "code",
   "execution_count": 75,
   "id": "56c20ff9",
   "metadata": {},
   "outputs": [],
   "source": [
    "model= LinearRegression().fit(x_train,y_train)"
   ]
  },
  {
   "cell_type": "code",
   "execution_count": 76,
   "id": "8f04e1fd",
   "metadata": {},
   "outputs": [
    {
     "data": {
      "text/plain": [
       "array([0.02434, 0.36431, 0.40444])"
      ]
     },
     "execution_count": 76,
     "metadata": {},
     "output_type": "execute_result"
    }
   ],
   "source": [
    "model.predict(x_test).round(5)"
   ]
  },
  {
   "cell_type": "code",
   "execution_count": 77,
   "id": "35672b08",
   "metadata": {},
   "outputs": [
    {
     "data": {
      "text/plain": [
       "9    0.095327354\n",
       "4    0.336532866\n",
       "3    0.274486297\n",
       "Name: Bacterial Growth Rate (B), dtype: object"
      ]
     },
     "execution_count": 77,
     "metadata": {},
     "output_type": "execute_result"
    }
   ],
   "source": [
    "y_test"
   ]
  },
  {
   "cell_type": "code",
   "execution_count": 78,
   "id": "f53de1cc",
   "metadata": {},
   "outputs": [],
   "source": [
    "prediction=model.predict(x_test).round(3)"
   ]
  },
  {
   "cell_type": "code",
   "execution_count": 79,
   "id": "339aef73",
   "metadata": {},
   "outputs": [
    {
     "data": {
      "text/plain": [
       "74.06441038579416"
      ]
     },
     "execution_count": 79,
     "metadata": {},
     "output_type": "execute_result"
    }
   ],
   "source": [
    "from sklearn.metrics import r2_score\n",
    "r2_score(prediction, y_test)*100"
   ]
  },
  {
   "cell_type": "code",
   "execution_count": null,
   "id": "1039a61d",
   "metadata": {},
   "outputs": [],
   "source": []
  }
 ],
 "metadata": {
  "kernelspec": {
   "display_name": "Python 3 (ipykernel)",
   "language": "python",
   "name": "python3"
  },
  "language_info": {
   "codemirror_mode": {
    "name": "ipython",
    "version": 3
   },
   "file_extension": ".py",
   "mimetype": "text/x-python",
   "name": "python",
   "nbconvert_exporter": "python",
   "pygments_lexer": "ipython3",
   "version": "3.11.5"
  }
 },
 "nbformat": 4,
 "nbformat_minor": 5
}
